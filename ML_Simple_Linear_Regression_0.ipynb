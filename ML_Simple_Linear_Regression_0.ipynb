{
  "nbformat": 4,
  "nbformat_minor": 0,
  "metadata": {
    "colab": {
      "name": "ML Simple Linear Regression 0.ipynb",
      "provenance": [],
      "authorship_tag": "ABX9TyOFkcqrY3f7z8Eyweuxao8U",
      "include_colab_link": true
    },
    "kernelspec": {
      "name": "python3",
      "display_name": "Python 3"
    },
    "language_info": {
      "name": "python"
    }
  },
  "cells": [
    {
      "cell_type": "markdown",
      "metadata": {
        "id": "view-in-github",
        "colab_type": "text"
      },
      "source": [
        "<a href=\"https://colab.research.google.com/github/Philechenim/Activity1/blob/master/ML_Simple_Linear_Regression_0.ipynb\" target=\"_parent\"><img src=\"https://colab.research.google.com/assets/colab-badge.svg\" alt=\"Open In Colab\"/></a>"
      ]
    },
    {
      "cell_type": "code",
      "metadata": {
        "id": "m00ZkOKXhHDp"
      },
      "source": [
        "!pip install -q sklearn"
      ],
      "execution_count": null,
      "outputs": []
    },
    {
      "cell_type": "code",
      "metadata": {
        "id": "xz1qN1RFw3N6"
      },
      "source": [
        "import pandas as pd\n",
        "import matplotlib.pyplot as plt\n",
        "import seaborn as sns"
      ],
      "execution_count": null,
      "outputs": []
    },
    {
      "cell_type": "code",
      "metadata": {
        "colab": {
          "base_uri": "https://localhost:8080/",
          "height": 297
        },
        "id": "0peR-ETiXXQB",
        "outputId": "0bc24e9b-b126-4bc0-afb1-6a2c3a9b6395"
      },
      "source": [
        "import pandas as pd \n",
        "import matplotlib.pyplot as plt\n",
        "import seaborn as sns\n",
        "df=pd.read_excel('https://archive.ics.uci.edu/ml/machine-learning-databases/00242/ENB2012_data.xlsx')\n",
        "#rename columns\n",
        "column_names = {'X1':'Relative_Compactness', 'X2': 'Surface_Area',\n",
        "'X3': 'Wall_Area', 'X4': 'Roof_Area', 'X5': 'Overall_Height',\n",
        "'X6': 'Orientation', 'X7': 'Glazing_Area',\n",
        "'X8': 'Glazing_Area_Distribution',\n",
        "'Y1': 'Heating_Load', 'Y2': 'Cooling_Load'}\n",
        "\n",
        "df = df.rename(columns=column_names)\n",
        "#select a sample of the dataset\n",
        "simple_linear_reg_df = df[['Relative_Compactness', 'Heating_Load']].sample(15, random_state=2)\n",
        "#regression plot\n",
        "sns.regplot(x=\"Relative_Compactness\", y=\"Heating_Load\", data=simple_linear_reg_df)\n"
      ],
      "execution_count": null,
      "outputs": [
        {
          "output_type": "execute_result",
          "data": {
            "text/plain": [
              "<matplotlib.axes._subplots.AxesSubplot at 0x7f446a490690>"
            ]
          },
          "metadata": {},
          "execution_count": 3
        },
        {
          "output_type": "display_data",
          "data": {
            "image/png": "[encoded data removed]",
            "text/plain": [
              "<Figure size 432x288 with 1 Axes>"
            ]
          },
          "metadata": {
            "needs_background": "light"
          }
        }
      ]
    },
    {
      "cell_type": "code",
      "metadata": {
        "id": "upAYbh3MuZhG"
      },
      "source": [
        "#Firstly, we normalise our dataset to a common scale using the min max scaler\n",
        "from sklearn.preprocessing import MinMaxScaler\n",
        "scaler = MinMaxScaler()\n",
        "normalised_df = pd.DataFrame(scaler.fit_transform(df), columns=df.columns)\n",
        "features_df = normalised_df.drop(columns=['Heating_Load', 'Cooling_Load'])\n",
        "heating_target = normalised_df['Heating_Load']\n"
      ],
      "execution_count": null,
      "outputs": []
    },
    {
      "cell_type": "code",
      "metadata": {
        "id": "MCsgxtaextD0"
      },
      "source": [
        "#Now, we split our dataset into the training and testing dataset. Recall that we had earlier segmented the features and target variables.\n",
        "from sklearn.model_selection import train_test_split\n",
        "x_train, x_test, y_train, y_test = train_test_split(features_df, heating_target, test_size=0.3, random_state=1)\n",
        "\n",
        "from sklearn.linear_model import LinearRegression\n",
        "linear_model = LinearRegression()\n",
        "#fit the model to the training dataset\n",
        "linear_model.fit(x_train, y_train)\n",
        "#obtain predictions\n",
        "predicted_values = linear_model.predict(x_test)"
      ],
      "execution_count": null,
      "outputs": []
    },
    {
      "cell_type": "code",
      "metadata": {
        "colab": {
          "base_uri": "https://localhost:8080/"
        },
        "id": "h8xSxsM00IEy",
        "outputId": "9655a7a6-b7a0-4939-e4ad-7ad3275d6acb"
      },
      "source": [
        "#MAE\n",
        "from sklearn.metrics import mean_absolute_error\n",
        "mae = mean_absolute_error(y_test, predicted_values)\n",
        "round(mae, 3) \t#prints 0.063"
      ],
      "execution_count": null,
      "outputs": [
        {
          "output_type": "execute_result",
          "data": {
            "text/plain": [
              "0.063"
            ]
          },
          "metadata": {},
          "execution_count": 6
        }
      ]
    },
    {
      "cell_type": "code",
      "metadata": {
        "colab": {
          "base_uri": "https://localhost:8080/"
        },
        "id": "gzYY2ffi1wdZ",
        "outputId": "2046feeb-7d3f-43a8-cdf2-ad099d63951c"
      },
      "source": [
        "# Residual sum of squares SSR (sum of squares residual)\n",
        "import numpy as np\n",
        "rss = np.sum(np.square(y_test - predicted_values))\n",
        "round(rss, 3)\t    #prints 1.823"
      ],
      "execution_count": null,
      "outputs": [
        {
          "output_type": "execute_result",
          "data": {
            "text/plain": [
              "1.823"
            ]
          },
          "metadata": {},
          "execution_count": 7
        }
      ]
    },
    {
      "cell_type": "code",
      "metadata": {
        "colab": {
          "base_uri": "https://localhost:8080/"
        },
        "id": "Bf3-0iee2O3d",
        "outputId": "d625cbaa-e68e-4810-a234-f6cc2b53bbd5"
      },
      "source": [
        "# Root Mean Square Error\n",
        "from sklearn.metrics import  mean_squared_error\n",
        "rmse = np.sqrt(mean_squared_error(y_test, predicted_values))\n",
        "round(rmse, 3) \t#prints 0.089"
      ],
      "execution_count": null,
      "outputs": [
        {
          "output_type": "execute_result",
          "data": {
            "text/plain": [
              "0.089"
            ]
          },
          "metadata": {},
          "execution_count": 8
        }
      ]
    },
    {
      "cell_type": "code",
      "metadata": {
        "colab": {
          "base_uri": "https://localhost:8080/"
        },
        "id": "OVqffjT12heE",
        "outputId": "2e85b33f-d4fc-4709-f89f-530010610a84"
      },
      "source": [
        "# R squared\n",
        "from sklearn.metrics import r2_score\n",
        "r2_score = r2_score(y_test, predicted_values)\n",
        "round(r2_score, 3)\t#prints 0.893"
      ],
      "execution_count": null,
      "outputs": [
        {
          "output_type": "execute_result",
          "data": {
            "text/plain": [
              "0.893"
            ]
          },
          "metadata": {},
          "execution_count": 9
        }
      ]
    },
    {
      "cell_type": "code",
      "metadata": {
        "colab": {
          "base_uri": "https://localhost:8080/"
        },
        "id": "kH9KqS4FCbGQ",
        "outputId": "c2021640-e819-4a17-bb36-7823343eaf4f"
      },
      "source": [
        "# Ridge regression\n",
        "from sklearn.linear_model import Ridge\n",
        "ridge_reg = Ridge(alpha=0.5)\n",
        "ridge_reg.fit(x_train, y_train)"
      ],
      "execution_count": null,
      "outputs": [
        {
          "output_type": "execute_result",
          "data": {
            "text/plain": [
              "Ridge(alpha=0.5, copy_X=True, fit_intercept=True, max_iter=None,\n",
              "      normalize=False, random_state=None, solver='auto', tol=0.001)"
            ]
          },
          "metadata": {},
          "execution_count": 10
        }
      ]
    },
    {
      "cell_type": "code",
      "metadata": {
        "colab": {
          "base_uri": "https://localhost:8080/"
        },
        "id": "V_jzEWuUE34N",
        "outputId": "3a59ebdc-3668-4dd9-ee15-873b9c8a91b8"
      },
      "source": [
        "# LASO regression\n",
        "from sklearn.linear_model import Lasso\n",
        "lasso_reg = Lasso(alpha=0.001)\n",
        "lasso_reg.fit(x_train, y_train)"
      ],
      "execution_count": null,
      "outputs": [
        {
          "output_type": "execute_result",
          "data": {
            "text/plain": [
              "Lasso(alpha=0.001, copy_X=True, fit_intercept=True, max_iter=1000,\n",
              "      normalize=False, positive=False, precompute=False, random_state=None,\n",
              "      selection='cyclic', tol=0.0001, warm_start=False)"
            ]
          },
          "metadata": {},
          "execution_count": 13
        }
      ]
    },
    {
      "cell_type": "code",
      "metadata": {
        "colab": {
          "base_uri": "https://localhost:8080/",
          "height": 297
        },
        "id": "3mVn9SkuFq_q",
        "outputId": "47d4a655-0791-4484-8069-300a63a11211"
      },
      "source": [
        "# comparing the effects of regularisation\n",
        "def get_weights_df(model, feat, col_name):\n",
        "  # this function returns the weight of every feature \n",
        "  weights = pd.Series(model.coef_, feat.columns).sort_values()\n",
        "  weights_df = pd.DataFrame(weights).reset_index()\n",
        "  weights_df.columns = ['Features', col_name]\n",
        "  weights_df[col_name].round(3)\n",
        "  return weights_df\n",
        "\n",
        "linear_model_weights = get_weights_df(linear_model, x_train, 'Linear_Model_Weight')\n",
        "ridge_weights_df = get_weights_df(ridge_reg, x_train, 'Ridge_Weight')\n",
        "lasso_weights_df = get_weights_df(lasso_reg, x_train, 'Lasso_Weight')\n",
        "\n",
        "final_weights = pd.merge(linear_model_weights, ridge_weights_df, on='Features')\n",
        "final_weights = pd.merge(final_weights, lasso_weights_df, on='Features')\n",
        "final_weights"
      ],
      "execution_count": null,
      "outputs": [
        {
          "output_type": "execute_result",
          "data": {
            "text/html": [
              "<div>\n",
              "<style scoped>\n",
              "    .dataframe tbody tr th:only-of-type {\n",
              "        vertical-align: middle;\n",
              "    }\n",
              "\n",
              "    .dataframe tbody tr th {\n",
              "        vertical-align: top;\n",
              "    }\n",
              "\n",
              "    .dataframe thead th {\n",
              "        text-align: right;\n",
              "    }\n",
              "</style>\n",
              "<table border=\"1\" class=\"dataframe\">\n",
              "  <thead>\n",
              "    <tr style=\"text-align: right;\">\n",
              "      <th></th>\n",
              "      <th>Features</th>\n",
              "      <th>Linear_Model_Weight</th>\n",
              "      <th>Ridge_Weight</th>\n",
              "      <th>Lasso_Weight</th>\n",
              "    </tr>\n",
              "  </thead>\n",
              "  <tbody>\n",
              "    <tr>\n",
              "      <th>0</th>\n",
              "      <td>Surface_Area</td>\n",
              "      <td>-6.387091e+12</td>\n",
              "      <td>-0.062275</td>\n",
              "      <td>0.000000</td>\n",
              "    </tr>\n",
              "    <tr>\n",
              "      <th>1</th>\n",
              "      <td>Relative_Compactness</td>\n",
              "      <td>-6.064125e-01</td>\n",
              "      <td>-0.283471</td>\n",
              "      <td>-0.027719</td>\n",
              "    </tr>\n",
              "    <tr>\n",
              "      <th>2</th>\n",
              "      <td>Orientation</td>\n",
              "      <td>-2.822876e-03</td>\n",
              "      <td>0.003369</td>\n",
              "      <td>0.000000</td>\n",
              "    </tr>\n",
              "    <tr>\n",
              "      <th>3</th>\n",
              "      <td>Glazing_Area_Distribution</td>\n",
              "      <td>1.913548e-02</td>\n",
              "      <td>0.029088</td>\n",
              "      <td>0.021431</td>\n",
              "    </tr>\n",
              "    <tr>\n",
              "      <th>4</th>\n",
              "      <td>Glazing_Area</td>\n",
              "      <td>2.295933e-01</td>\n",
              "      <td>0.212449</td>\n",
              "      <td>0.206132</td>\n",
              "    </tr>\n",
              "    <tr>\n",
              "      <th>5</th>\n",
              "      <td>Overall_Height</td>\n",
              "      <td>3.852539e-01</td>\n",
              "      <td>0.442467</td>\n",
              "      <td>0.463482</td>\n",
              "    </tr>\n",
              "    <tr>\n",
              "      <th>6</th>\n",
              "      <td>Wall_Area</td>\n",
              "      <td>3.725803e+12</td>\n",
              "      <td>0.103061</td>\n",
              "      <td>0.200087</td>\n",
              "    </tr>\n",
              "    <tr>\n",
              "      <th>7</th>\n",
              "      <td>Roof_Area</td>\n",
              "      <td>4.790318e+12</td>\n",
              "      <td>-0.163192</td>\n",
              "      <td>-0.000000</td>\n",
              "    </tr>\n",
              "  </tbody>\n",
              "</table>\n",
              "</div>"
            ],
            "text/plain": [
              "                    Features  Linear_Model_Weight  Ridge_Weight  Lasso_Weight\n",
              "0               Surface_Area        -6.387091e+12     -0.062275      0.000000\n",
              "1       Relative_Compactness        -6.064125e-01     -0.283471     -0.027719\n",
              "2                Orientation        -2.822876e-03      0.003369      0.000000\n",
              "3  Glazing_Area_Distribution         1.913548e-02      0.029088      0.021431\n",
              "4               Glazing_Area         2.295933e-01      0.212449      0.206132\n",
              "5             Overall_Height         3.852539e-01      0.442467      0.463482\n",
              "6                  Wall_Area         3.725803e+12      0.103061      0.200087\n",
              "7                  Roof_Area         4.790318e+12     -0.163192     -0.000000"
            ]
          },
          "metadata": {},
          "execution_count": 15
        }
      ]
    }
  ]
}